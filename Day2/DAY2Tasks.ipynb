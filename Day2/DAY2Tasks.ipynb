{
 "cells": [
  {
   "cell_type": "markdown",
   "metadata": {},
   "source": [
    "# Day2 Task"
   ]
  },
  {
   "cell_type": "markdown",
   "metadata": {},
   "source": [
    "Try to complete all the tasks and raise your queries on the [issues tab](https://github.com/analytics-club-iitm/Daily-Sessions/issues) on this repo"
   ]
  },
  {
   "cell_type": "markdown",
   "metadata": {},
   "source": [
    "## `Let's Get Started`"
   ]
  },
  {
   "cell_type": "markdown",
   "metadata": {},
   "source": [
    ">**EXERCISE-1**:  Given a string,\n",
    "1.  Check if all the elements in string are smaller; \n",
    "2.  Find out all the capital letters in the string; \n",
    "3.  Then, make all the letters to lower case."
   ]
  },
  {
   "cell_type": "code",
   "execution_count": 1,
   "metadata": {},
   "outputs": [],
   "source": [
    "#your code here\n",
    "\n"
   ]
  },
  {
   "cell_type": "markdown",
   "metadata": {},
   "source": [
    ">**EXERCISE-2**:  Build a list that contains every prime number between 1 and 100, in two different ways:\n",
    "1.  Using for loops and conditional if statements.\n",
    "2.  *(Stretch Goal)* Using a list comprehension.  You should be able to do this in one line of code, and it may be helpful to look up the function `all` in the documentation."
   ]
  },
  {
   "cell_type": "code",
   "execution_count": 2,
   "metadata": {},
   "outputs": [],
   "source": [
    "# your code here\n",
    "\n"
   ]
  },
  {
   "cell_type": "markdown",
   "metadata": {},
   "source": [
    ">**EXERCISE-3:** Define a function, called `myprimes`, and solve above problem using that"
   ]
  },
  {
   "cell_type": "code",
   "execution_count": 3,
   "metadata": {},
   "outputs": [],
   "source": [
    "#your code here\n",
    "\n"
   ]
  },
  {
   "cell_type": "markdown",
   "metadata": {},
   "source": [
    ">**EXERCISE-4:** Define a function, called `square`, which can square numbers and find square of 17 using that function"
   ]
  },
  {
   "cell_type": "code",
   "execution_count": 4,
   "metadata": {},
   "outputs": [],
   "source": [
    "## your code here\n",
    "\n"
   ]
  },
  {
   "cell_type": "markdown",
   "metadata": {},
   "source": [
    ">**EXERCISE-5:** Create a dictionary, called `ps_dict`, that contains with the primes less than 100 and their corresponding squares."
   ]
  },
  {
   "cell_type": "code",
   "execution_count": 5,
   "metadata": {},
   "outputs": [],
   "source": [
    "# your code here\n",
    "\n"
   ]
  },
  {
   "cell_type": "markdown",
   "metadata": {},
   "source": [
    ">**EXERCISE-6:** TRY TO FIGURE OUT"
   ]
  },
  {
   "cell_type": "code",
   "execution_count": 8,
   "metadata": {},
   "outputs": [
    {
     "data": {
      "text/plain": [
       "(['python', 'data science', 'machine learning', 'deep learning'],\n",
       " 'hello world')"
      ]
     },
     "execution_count": 8,
     "metadata": {},
     "output_type": "execute_result"
    }
   ],
   "source": [
    "tupl = (['python', 'data science', 'machine learning'], 'hello world')\n",
    "tupl2 = tupl\n",
    "\n",
    "tupl[0].append('deep learning')\n",
    "tupl2"
   ]
  },
  {
   "cell_type": "markdown",
   "metadata": {},
   "source": [
    "We studied in our assignment that tuple are immutable but above how come we were able to change the value in tupl. Explain??\n",
    "(`Hint:` Refer the link which is shared in our main notebook)\n",
    "\n",
    "Also explain how why tupl2 is getting changed?"
   ]
  },
  {
   "cell_type": "raw",
   "metadata": {},
   "source": [
    "your answer here\n",
    "\n"
   ]
  }
 ],
 "metadata": {
  "kernelspec": {
   "display_name": "Python 3",
   "language": "python",
   "name": "python3"
  },
  "language_info": {
   "codemirror_mode": {
    "name": "ipython",
    "version": 3
   },
   "file_extension": ".py",
   "mimetype": "text/x-python",
   "name": "python",
   "nbconvert_exporter": "python",
   "pygments_lexer": "ipython3",
   "version": "3.7.4"
  }
 },
 "nbformat": 4,
 "nbformat_minor": 2
}
